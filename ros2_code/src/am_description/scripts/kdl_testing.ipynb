{
 "cells": [
  {
   "cell_type": "code",
   "execution_count": 2,
   "metadata": {},
   "outputs": [],
   "source": [
    "# need to pip3 install urdf_parser_py\n",
    "import PyKDL as kdl\n",
    "# import urdf_parser_py.urdf as urdf\n",
    "from urdf import treeFromFile, kdl_to_mat, list_to_kdl, joint_kdl_to_list\n",
    "import numpy as np"
   ]
  },
  {
   "cell_type": "code",
   "execution_count": 3,
   "metadata": {},
   "outputs": [],
   "source": [
    "(ok, tree) = treeFromFile('../urdf/tilted_hex_arm.urdf')"
   ]
  },
  {
   "cell_type": "code",
   "execution_count": 4,
   "metadata": {},
   "outputs": [
    {
     "name": "stdout",
     "output_type": "stream",
     "text": [
      "  - Number of joints: 6\n",
      "  - Number of segments: 10\n",
      "  - Name of first segment: x_link\n",
      "  - Name of first joint: x_joint\n",
      "List all the joints\n",
      "   - Segment (x_link) : joint (x_joint), m(0.0), I([0.0, 0.0, 0.0, 0.0, 0.0, 0.0, 0.0, 0.0, 0.0])\n",
      "   - Segment (y_link) : joint (y_joint), m(0.0), I([0.0, 0.0, 0.0, 0.0, 0.0, 0.0, 0.0, 0.0, 0.0])\n",
      "   - Segment (z_link) : joint (z_joint), m(0.0), I([0.0, 0.0, 0.0, 0.0, 0.0, 0.0, 0.0, 0.0, 0.0])\n",
      "   - Segment (base_link_yaw) : joint (yaw_joint), m(0.0), I([0.0, 0.0, 0.0, 0.0, 0.0, 0.0, 0.0, 0.0, 0.0])\n",
      "   - Segment (base_link_pitch) : joint (pitch_joint), m(0.0), I([0.0, 0.0, 0.0, 0.0, 0.0, 0.0, 0.0, 0.0, 0.0])\n",
      "   - Segment (base_link_roll) : joint (roll_joint), m(0.0), I([0.0, 0.0, 0.0, 0.0, 0.0, 0.0, 0.0, 0.0, 0.0])\n",
      "   - Segment (base_link) : joint (base_joint), m(3.02), I([0.08, 0.0, 0.0, 0.0, 0.08, 0.0, 0.0, 0.0, 0.12])\n",
      "   - Segment (sim_ft_sensor) : joint (ft_sensor_joint), m(0.15), I([0.0001, 0.0, 0.0, 0.0, 0.0001, 0.0, 0.0, 0.0, 0.0001])\n",
      "   - Segment (fixed_arm) : joint (arm_joint), m(0.1), I([0.0001, 0.0, 0.0, 0.0, 0.0001, 0.0, 0.0, 0.0, 0.001])\n",
      "   - Segment (end_effector) : joint (end_effector_joint), m(0.1), I([0.0001, 0.0, 0.0, 0.0, 0.0001, 0.0, 0.0, 0.0, 0.0001])\n"
     ]
    }
   ],
   "source": [
    "chain = tree.getChain('map', 'end_effector') \n",
    "print(f\"  - Number of joints: {chain.getNrOfJoints()}\")\n",
    "print(f\"  - Number of segments: {chain.getNrOfSegments()}\")   \n",
    "print(f\"  - Name of first segment: {chain.getSegment(0).getName()}\")\n",
    "print(f\"  - Name of first joint: {chain.getSegment(0).getJoint().getName()}\")\n",
    "\n",
    "# list all joints\n",
    "print(\"List all the joints\")\n",
    "for i in range(chain.getNrOfSegments()):\n",
    "    inertia = chain.getSegment(i).getInertia()\n",
    "    cog = inertia.getCOG()\n",
    "    m = inertia.getMass()\n",
    "    I = inertia.getRotationalInertia()\n",
    "    print(f\"   - Segment ({chain.getSegment(i).getName()}) : joint ({chain.getSegment(i).getJoint().getName()}), m({m}), I({list(I)})\")"
   ]
  },
  {
   "cell_type": "code",
   "execution_count": 5,
   "metadata": {},
   "outputs": [
    {
     "name": "stdout",
     "output_type": "stream",
     "text": [
      "Joints: 6, Segments: 10\n",
      " - segment 0-x_link with joint x_joint of type TransAxis \n",
      " - segment 1-y_link with joint y_joint of type TransAxis \n",
      " - segment 2-z_link with joint z_joint of type TransAxis \n",
      " - segment 3-base_link_yaw with joint yaw_joint of type RotAxis \n",
      " - segment 4-base_link_pitch with joint pitch_joint of type RotAxis \n",
      " - segment 5-base_link_roll with joint roll_joint of type RotAxis \n",
      " - segment 6-base_link with joint base_joint of type Fixed \n",
      " - segment 7-sim_ft_sensor with joint ft_sensor_joint of type Fixed \n",
      " - segment 8-fixed_arm with joint arm_joint of type Fixed \n",
      " - segment 9-end_effector with joint end_effector_joint of type Fixed \n"
     ]
    }
   ],
   "source": [
    "ee_chain =tree.getChain('map','end_effector')\n",
    "n_joints = ee_chain.getNrOfJoints()\n",
    "n_segments = ee_chain.getNrOfSegments()\n",
    "print(f'Joints: {n_joints}, Segments: {n_segments}')\n",
    "for i in range(n_segments):\n",
    "    s = ee_chain.getSegment(i)\n",
    "    j = s.getJoint()\n",
    "    if j.getTypeName()!='None':\n",
    "        print(f\" - segment {i}-{s.getName()} with joint {j.getName()} of type {j.getTypeName()} \")"
   ]
  },
  {
   "cell_type": "code",
   "execution_count": 6,
   "metadata": {},
   "outputs": [
    {
     "name": "stdout",
     "output_type": "stream",
     "text": [
      "pos=[ 2.51053e-17,        0.41,        1.96], \n",
      "rot=[ 6.12323e-17,          -1,           0;\n",
      "            1, 6.12323e-17,           0;\n",
      "            0,           0,           1]\n",
      "\n",
      " Tw_ee:\n",
      "[[ 0.   -1.    0.    0.  ]\n",
      " [ 1.    0.    0.    0.41]\n",
      " [ 0.    0.    1.    1.96]\n",
      " [ 0.    0.    0.    1.  ]]\n",
      "\n",
      " rot_q=[0.   0.   0.71 0.71],  ypr=(1.5707963267948966, -0.0, 0.0)\n"
     ]
    }
   ],
   "source": [
    "# Forward kinematics\n",
    "fk = kdl.ChainFkSolverPos_recursive(ee_chain)\n",
    "eeFrame = kdl.Frame()\n",
    "q = [0, 0, 2, 0, 0, np.pi/2] # x,y,z, roll,pitch,yaw\n",
    "\n",
    "q_Kdl = kdl.JntArray(n_joints)\n",
    "q_Kdl[0] = q[0] # x\n",
    "q_Kdl[1] = q[1] # y\n",
    "q_Kdl[2] = q[2] # z\n",
    "q_Kdl[3] = q[5] # yaw in radians \n",
    "q_Kdl[4] = q[4] # pitch in radians \n",
    "q_Kdl[5] = q[3] # roll in  radians\n",
    "fk.JntToCart(q_Kdl, eeFrame)\n",
    "pos = eeFrame.p\n",
    "rot = eeFrame.M\n",
    "print( f\"pos={pos}, \\nrot={rot}\")\n",
    "\n",
    "T_w_ee = np.array([[rot[0, 0], rot[0, 1], rot[0, 2], pos[0]], \n",
    "                        [rot[1, 0], rot[1, 1], rot[1, 2], pos[1]],\n",
    "                        [rot[2, 0], rot[2, 1], rot[2, 2], pos[2]],\n",
    "                        [        0,         0,          0,     1]])\n",
    "\n",
    "rot_q = kdl.Rotation(rot).GetQuaternion()\n",
    "ypr = kdl.Rotation(rot).GetEulerZYX()\n",
    "print(f'\\n Tw_ee:\\n{T_w_ee.round(2)}')\n",
    "print(f'\\n rot_q={np.array(rot_q).round(2)},  ypr={ypr}')"
   ]
  },
  {
   "cell_type": "code",
   "execution_count": 7,
   "metadata": {},
   "outputs": [
    {
     "name": "stdout",
     "output_type": "stream",
     "text": [
      "q_ik = [-0.    0.    2.    1.57 -0.   -0.  ]\n",
      "q = [0.0, 0.0, 2.0, 1.5707963267948966, 0.0, 0.0]\n"
     ]
    }
   ],
   "source": [
    "# inverse kinematics\n",
    "# target pose represented as rotation matrix and translation vector \n",
    "# result is represented as x,y,z,yaw,pitch,roll\n",
    "\n",
    "pos_kdl = kdl.Vector(pos[0], pos[1], pos[2]) #xyz position\n",
    "rot_kdl = kdl.Rotation(rot) # orientation\n",
    "target_pose_kdl = kdl.Frame(rot_kdl, pos_kdl)\n",
    "\n",
    "\n",
    "fk_kdl = kdl.ChainFkSolverPos_recursive(ee_chain)\n",
    "ik_v_kdl = kdl.ChainIkSolverVel_pinv(ee_chain)\n",
    "\n",
    "# List of joint angles to lower/upper bound the angles on the IK search\n",
    "q_min = np.array([-100, -100, -100, -2*np.pi, -2*np.pi, -2*np.pi])\n",
    "q_max =-1* q_min\n",
    "mins_kdl = list_to_kdl(q_min)\n",
    "maxs_kdl = list_to_kdl(q_max)\n",
    "\n",
    "ik_p_kdl = kdl.ChainIkSolverPos_NR_JL(ee_chain, mins_kdl, maxs_kdl, fk_kdl, ik_v_kdl)\n",
    "\n",
    "# use the midpoint of the joint limits as the guess\n",
    "q_guess = (q_min + q_max) / 2.0\n",
    "q_guess = np.where(np.isnan(q_guess), [0.]*len(q_guess), q_guess)\n",
    "\n",
    "q_kdl = kdl.JntArray(n_joints)\n",
    "q_guess_kdl = list_to_kdl(q_guess)\n",
    "if ik_p_kdl.CartToJnt(q_guess_kdl, target_pose_kdl, q_kdl) >= 0:\n",
    "    print(f\"q_ik = {np.array(joint_kdl_to_list(q_kdl)).round(2)}\")\n",
    "    print(f\"q = {joint_kdl_to_list(q_Kdl)}\")\n",
    "    \n",
    "else:\n",
    "    print(\"could not find solution\")"
   ]
  },
  {
   "cell_type": "code",
   "execution_count": 8,
   "metadata": {},
   "outputs": [
    {
     "name": "stdout",
     "output_type": "stream",
     "text": [
      "J=\n",
      "[[ 1.    0.    0.   -0.41 -0.   -0.04]\n",
      " [ 0.    1.    0.    0.   -0.04  0.  ]\n",
      " [ 0.    0.    1.    0.   -0.41  0.  ]\n",
      " [ 0.    0.    0.    0.   -1.    0.  ]\n",
      " [ 0.    0.    0.    0.    0.    1.  ]\n",
      " [ 0.    0.    0.    1.    0.    0.  ]]\n",
      "cond=1.5054442492474192\n"
     ]
    }
   ],
   "source": [
    "# Jacobian\n",
    "jac_solver = kdl.ChainJntToJacSolver(ee_chain)\n",
    "J = kdl.Jacobian(len(q))\n",
    "jac_solver.JntToJac(q_Kdl, J)\n",
    "J = kdl_to_mat(J)\n",
    "print(f\"J=\\n{J.round(2)}\")\n",
    "\n",
    "# Conditional Number (manipulability), the greater the value the worse the motion manipulability\n",
    "cond = np.linalg.cond(J)\n",
    "print(f\"cond={cond}\")\n",
    "\n",
    "J_inv = np.linalg.pinv(J)\n"
   ]
  },
  {
   "cell_type": "code",
   "execution_count": 9,
   "metadata": {},
   "outputs": [
    {
     "name": "stdout",
     "output_type": "stream",
     "text": [
      "[[ 0.    1.    0.   -0.   -0.04  0.  ]\n",
      " [-1.    0.    0.    0.41  0.    0.04]\n",
      " [ 0.    0.    1.    0.   -0.41  0.  ]\n",
      " [ 0.    0.    0.    0.    0.    1.  ]\n",
      " [ 0.    0.    0.    0.    1.    0.  ]\n",
      " [ 0.    0.    0.    1.    0.    0.  ]]\n",
      "\n",
      "\n",
      "[[ 1.    0.    0.   -0.41 -0.   -0.04]\n",
      " [ 0.    1.    0.    0.   -0.04  0.  ]\n",
      " [ 0.    0.    1.    0.   -0.41  0.  ]\n",
      " [ 0.    0.    0.    0.   -1.    0.  ]\n",
      " [ 0.    0.    0.    0.    0.    1.  ]\n",
      " [ 0.    0.    0.    1.    0.    0.  ]]\n"
     ]
    }
   ],
   "source": [
    "\"\"\"Calculates local Jacobian (arm base to EE) from fixed-axis jacobian and FK.\n",
    "The local jacobian is the mobile-axis Jacobian calculated by\n",
    "J_M = [R.T, 0_3x3;  0_3x3, R.T]*J_F\n",
    "\n",
    "Args:\n",
    "    joint (list): current joint positions\n",
    "\n",
    "Returns:\n",
    "    np.mat: local jacobian matrix\n",
    "\"\"\"\n",
    "\n",
    "rot = T_w_ee[0:3, 0:3]\n",
    "t1 = np.concatenate((rot.transpose(), np.zeros((3, 3))), axis=1)\n",
    "t2 = np.concatenate((np.zeros((3, 3)), rot.transpose()), axis=1)\n",
    "Tinv = np.concatenate((t1,  t2), axis=0)\n",
    "locJacobian = np.matmul(Tinv, J)\n",
    "print(locJacobian.round(2))\n",
    "print('\\n')\n",
    "print(J.round(2))"
   ]
  },
  {
   "cell_type": "code",
   "execution_count": 10,
   "metadata": {},
   "outputs": [
    {
     "name": "stdout",
     "output_type": "stream",
     "text": [
      "V=[-0.004  0.1   -0.     0.     0.1    0.   ]\n",
      "V=[[-0.004  0.1    0.     0.     0.1    0.   ]]\n"
     ]
    }
   ],
   "source": [
    "# forward velocity kinematics\n",
    "end_frame = kdl.FrameVel()\n",
    "fk_v_kdl = kdl.ChainFkSolverVel_recursive(ee_chain)\n",
    "\n",
    "q_dot = [0.0, 0.1, 0.0,0.0,0,0.1] #vx, vy, vz, yaw_dot, pitch_dot, roll_dot\n",
    "qdot_jntarr = list_to_kdl(q_dot)\n",
    "q_dot_kdl = kdl.JntArrayVel(q_kdl,qdot_jntarr)\n",
    "\n",
    "fk_v_kdl.JntToCart(q_dot_kdl,end_frame)\n",
    "V = end_frame.GetTwist()\n",
    "V = np.array([V[0], V[1], V[2], V[3], V[4], V[5]])\n",
    "print(f\"V={V.round(3)}\")\n",
    "\n",
    "\n",
    "# joint_vel_from_task_vel using pseudo-inverse\n",
    "# q_dot = J_inv*x_dot\n",
    "# J_inv = np.linalg.pinv(J)\n",
    "# q_dot = np.matmul(J_inv, (task_velocity))\n",
    "print(f\"V={np.matmul(J,q_dot).round(3)}\")"
   ]
  },
  {
   "cell_type": "code",
   "execution_count": 11,
   "metadata": {},
   "outputs": [
    {
     "name": "stdout",
     "output_type": "stream",
     "text": [
      "M=\n",
      "[[ 3.37  0.    0.   -0.08 -0.   -0.01]\n",
      " [ 0.    3.37  0.    0.   -0.01  0.  ]\n",
      " [ 0.    0.    3.37  0.   -0.08  0.  ]\n",
      " [-0.08  0.    0.    0.15  0.    0.  ]\n",
      " [-0.   -0.01 -0.08  0.    0.11  0.  ]\n",
      " [-0.01  0.    0.    0.    0.    0.08]] \n",
      "M_inv=\n",
      "[[ 0.3  -0.    0.    0.17  0.    0.05]\n",
      " [-0.    0.3   0.   -0.    0.04 -0.  ]\n",
      " [ 0.    0.    0.3   0.    0.23  0.  ]\n",
      " [ 0.17 -0.    0.    6.96  0.   -0.25]\n",
      " [ 0.    0.04  0.23  0.    9.67  0.  ]\n",
      " [ 0.05 -0.    0.   -0.25  0.   12.38]]\n",
      "Hc=\n",
      "[[ 3.37 -0.    0.    0.    0.12  1.3 ]\n",
      " [ 0.    3.37  0.   -0.12  0.   -0.  ]\n",
      " [-0.    0.    3.37 -1.3   0.   -0.  ]\n",
      " [-0.   -0.12 -1.3   0.61 -0.    0.  ]\n",
      " [ 0.12 -0.    0.   -0.    0.09  0.05]\n",
      " [ 1.3  -0.    0.    0.    0.05  0.65]]\n",
      "gravity torques tau_g: [ 0.     0.    33.06  -0.    -0.795 -0.   ]\n",
      "Coriolis torques: [ 0.001 -0.006  0.001 -0.     0.    -0.002]\n"
     ]
    }
   ],
   "source": [
    "# Inertia matrix\n",
    "grav_vector = kdl.Vector(0., 0., -9.81)  \n",
    "dyn_param = kdl.ChainDynParam(ee_chain, grav_vector)\n",
    "inertia = kdl.JntSpaceInertiaMatrix(n_joints)\n",
    "dyn_param.JntToMass(q_Kdl, inertia)\n",
    "\n",
    "M = kdl_to_mat(inertia)\n",
    "M_inv = np.linalg.inv(M)\n",
    "print(f\"M=\\n{M.round(2)} \\nM_inv=\\n{M_inv.round(2)}\")\n",
    "\n",
    "# Cartesian inertia Hc\n",
    "Hc = np.linalg.inv(J * M_inv * J.T)\n",
    "print(f\"Hc=\\n{Hc.round(2)}\")\n",
    "\n",
    "# gravity torques\n",
    "G_kdl= kdl.JntArray(n_joints)\n",
    "tau_g = np.zeros((n_joints))\n",
    "dyn_param.JntToGravity(q_kdl,G_kdl)\n",
    "for row in range(n_joints):\n",
    "    tau_g[row] = G_kdl[row]\n",
    "print(f\"gravity torques tau_g: {tau_g.round(3)}\")\n",
    "\n",
    "\n",
    "#coupling torques\n",
    "q_dot = [0.0, 0.0, 0.0,0.2,0.2,0.0] #vx, vy, vz, yaw_dot, pitch_dot, roll_dot\n",
    "qdot_jntarr = list_to_kdl(q_dot)\n",
    "\n",
    "C_kdl= kdl.JntArray(n_joints)\n",
    "tau_c = np.zeros((n_joints))\n",
    "dyn_param.JntToCoriolis(q_kdl,qdot_jntarr,C_kdl)\n",
    "for row in range(n_joints):\n",
    "    tau_c[row] = C_kdl[row]\n",
    "print(f\"Coriolis torques: {tau_c.round(3)}\")"
   ]
  },
  {
   "cell_type": "code",
   "execution_count": 12,
   "metadata": {},
   "outputs": [
    {
     "name": "stdout",
     "output_type": "stream",
     "text": [
      "[ 0.     0.    33.06   0.    -0.795  0.   ]\n"
     ]
    }
   ],
   "source": [
    "# Inverse  Dynamics (requires >v1.4, compile from source )\n",
    "q = [0.0, 0.0, 1.0,0.0,0.0,0.0]\n",
    "q_kdl = list_to_kdl(q)\n",
    "q_dot = [0.0, 0.0, 0.0,0.0,0.0,0.0] #vx, vy, vz, yaw_dot, pitch_dot, roll_dot\n",
    "qd_kdl = list_to_kdl(q_dot)\n",
    "q_dd = [0., 0.0, 0.0,0.0,0.0,0.] #vx, vy, vz, yaw_dot, pitch_dot, roll_dot\n",
    "qdd_kdl = list_to_kdl(q_dd)\n",
    "wrenches = [kdl.Wrench()]*n_segments\n",
    "tau_gc = kdl.JntArray(n_joints)\n",
    "\n",
    "ID_solver = kdl.ChainIdSolver_RNE(ee_chain, grav_vector)\n",
    "ret = ID_solver.CartToJnt(q_kdl, qd_kdl, qdd_kdl, wrenches, tau_gc)\n",
    "tau = np.zeros((n_joints))\n",
    "for i in range(n_joints):\n",
    "    tau[i] = tau_gc[i]\n",
    "print(tau.round(3))"
   ]
  },
  {
   "cell_type": "code",
   "execution_count": 13,
   "metadata": {},
   "outputs": [
    {
     "data": {
      "text/plain": [
       "'/usr/local/lib/python3.8/dist-packages/PyKDL.so'"
      ]
     },
     "execution_count": 13,
     "metadata": {},
     "output_type": "execute_result"
    }
   ],
   "source": [
    "# External Wrench estimator, not wrapped in PyKDL\n",
    "# kdl.ChainExternalWrenchEstimator\n",
    "kdl.__file__"
   ]
  }
 ],
 "metadata": {
  "kernelspec": {
   "display_name": "Python 3",
   "language": "python",
   "name": "python3"
  },
  "language_info": {
   "codemirror_mode": {
    "name": "ipython",
    "version": 3
   },
   "file_extension": ".py",
   "mimetype": "text/x-python",
   "name": "python",
   "nbconvert_exporter": "python",
   "pygments_lexer": "ipython3",
   "version": "3.8.10"
  },
  "orig_nbformat": 4
 },
 "nbformat": 4,
 "nbformat_minor": 2
}
